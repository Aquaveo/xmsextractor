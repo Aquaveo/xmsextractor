{
 "cells": [
  {
   "cell_type": "markdown",
   "metadata": {},
   "source": [
    "# xmsextractor"
   ]
  },
  {
   "cell_type": "markdown",
   "metadata": {
    "tags": []
   },
   "source": [
    "## Table of Contents\n",
    "\n",
    "- [Introduction](#Introduction)\n",
    "- [Example - Simple Location Extractor](#Example---Simple-Location-Extractor)\n",
    "- [Data extraction at locations](#Data-extraction-at-locations)\n",
    "- [Example - Transient Data Location Extractor](#Example---Transient-Data-Location-Extractor)\n",
    "   - [1. Create a UGrid for the Extractor](#1.-Create-a-UGrid-for-the-Extractor)\n",
    "   - [2. Create the Extractor](#2.-Create-the-Extractor)\n",
    "   - [3. Set extract locations](#3.-Set-extract-locations)\n",
    "   - [4. Set the point scalars for the first time step](#4.-Set-the-point-scalars-for-the-first-time-step)\n",
    "   - [5. Extract the data](#5.-Extract-the-data)\n",
    "   - [6. Continue using steps 4 and 5 for remaining time steps](#6.-Continue-using-steps-4-and-5-for-remaining-time-steps)\n",
    "- [Example - Transient Polyline Extractor](#Example---Transient-Polyline-Extractor)\n",
    "   - [1. Build the UGrid and Extractor Objects](#1.-Build-the-UGrid-and-Extractor-Objects)\n",
    "   - [2. Set the polyline](#2.-Set-the-polyline)\n",
    "   - [3. Set the point scalars for the first time step](#3.-Set-the-point-scalars-for-the-first-time-step)\n",
    "   - [4. Extract the data](#4.-Extract-the-data)\n",
    "   - [5. Continue using steps 3 and 4 for remaining time steps](#5.-Continue-using-steps-3-and-4-for-remaining-time-steps)"
   ]
  },
  {
   "cell_type": "markdown",
   "metadata": {},
   "source": [
    "## Introduction \n",
    "The purpose of this tutorial is to provide explanation on how to use the classes defined in xmsextractor to extract data at given locations on an unstructured grid (xmsgrid) with scalar values. \n",
    "\n",
    "The motivation for this library is a tool to interrogate results from numerical models. Numerical models use either structured or unstructured grids to perform calculations. The locations where the numerical model performs calculations do not usually coincide with points of interest. This library extracts data values from arbitrary locations in an unstructured grid (or structured grid); also, the library includes functionality to extract values along a line."
   ]
  },
  {
   "cell_type": "code",
   "execution_count": 1,
   "metadata": {
    "tags": []
   },
   "outputs": [],
   "source": [
    "import numpy as np\n",
    "import xms.extractor as xmsextractor\n",
    "import xms.grid as xmsgrid"
   ]
  },
  {
   "cell_type": "markdown",
   "metadata": {},
   "source": [
    "## Example - Simple Location Extractor\n",
    "\n",
    "This first example shows how to extract data from a simple XmUGrid. A picture of the example is shown below. Notice that the XmUGrid is a simple square from (0,0) to (1,1) split into two triangle cells. The scalar data is mapped to the cells (this usually means that the numerical model has computed a value at the cell center).\n",
    "\n",
    "If the scalar data were mapped to the points then that would mean that the numerical model computed values at the point locations."
   ]
  },
  {
   "cell_type": "code",
   "execution_count": 2,
   "metadata": {},
   "outputs": [],
   "source": [
    "# create a simple xmsgrid\n",
    "pts = [(0, 0, 0), (1, 0, 0), (1, 1, 0), (0, 1, 0)]\n",
    "cells = [\n",
    "    xmsgrid.ugrid.UGrid.cell_type_enum.TRIANGLE, 3, 0, 1, 2,\n",
    "    xmsgrid.ugrid.UGrid.cell_type_enum.TRIANGLE, 3, 2, 3, 0,\n",
    "]\n",
    "ugrid = xmsgrid.ugrid.UGrid(pts, cells)"
   ]
  },
  {
   "cell_type": "markdown",
   "metadata": {},
   "source": [
    "The code below creates a dynamic render of our grid using holoviews. An image of this render is pictured below.\n",
    "\n",
    "```python\n",
    "# draw the grid\n",
    "polygons, lines, points = ugrid_tools.create_hv_objects_for_image(ugrid) \n",
    "%opts Polygons Points [width=700, height=700]\n",
    "polygons.options(color=\"red\", alpha=0.25) * lines * points.options(size=3)\n",
    "```"
   ]
  },
  {
   "cell_type": "markdown",
   "metadata": {},
   "source": [
    "![Simple xmugrid](images/simple_xmugrid.png)"
   ]
  },
  {
   "cell_type": "markdown",
   "metadata": {},
   "source": [
    "## Data extraction at locations \n",
    "The basic steps to extract interpolated locations from an XmUGrid and scalar values is as follows:\n",
    "1. Create an extractor for an existing XmUGrid."
   ]
  },
  {
   "cell_type": "code",
   "execution_count": 3,
   "metadata": {},
   "outputs": [],
   "source": [
    "extractor = xmsextractor.UGrid2dDataExtractor(ugrid)"
   ]
  },
  {
   "cell_type": "markdown",
   "metadata": {},
   "source": [
    "2. Set scalar and activity values.\n",
    "\n",
    "Usually these values would come from a numerical model. Activity values refers to output from a numerical model where certain areas in the grid do not have computed values. For a 2D simulation of the flow of water the \"inactive\" areas could be areas that are dry."
   ]
  },
  {
   "cell_type": "code",
   "execution_count": 4,
   "metadata": {},
   "outputs": [],
   "source": [
    "cellScalars = (1, 2)\n",
    "extractor.set_grid_cell_scalars(cellScalars, (), 'cells')"
   ]
  },
  {
   "cell_type": "markdown",
   "metadata": {},
   "source": [
    "3. Set extract locations.\n",
    "\n",
    "These are the locations where we want to know the value computed by the numerical model. The value will be interpolated based on the surrounding values computed by the numerical model."
   ]
  },
  {
   "cell_type": "code",
   "execution_count": 5,
   "metadata": {},
   "outputs": [],
   "source": [
    "extractor_locations = [\n",
    "    (0.0, 0.0, 0.0),\n",
    "    (0.25, 0.75, 100.0),\n",
    "    (0.5, 0.5, 0.0),\n",
    "    (0.75, 0.25, -100.0),\n",
    "    (-0.1, -0.1, 0.0),\n",
    "    (0, 1, 0),\n",
    "    (1, 1, 0),\n",
    "    (1, 0, 0),\n",
    "    (0.25, 0.4, 0),\n",
    "    (0.75, 0.6, 0),\n",
    "]"
   ]
  },
  {
   "cell_type": "markdown",
   "metadata": {},
   "source": [
    "The code below creates a dynamic render of our grid with our extractor locations using holoviews. An image of this render is pictured below.\n",
    "\n",
    "```python\n",
    "# draw the locations\n",
    "extractor_location_points = hv.Points(extractor_locations).options(color='red', size=10)\n",
    "%opts Polygons Points [width=700, height=700]\n",
    "polygons * lines * points * extractor_location_points\n",
    "```"
   ]
  },
  {
   "cell_type": "markdown",
   "metadata": {
    "tags": []
   },
   "source": [
    "![Extract Locations](images/simple_xmugrid_extract_locations.png)"
   ]
  },
  {
   "cell_type": "code",
   "execution_count": 6,
   "metadata": {},
   "outputs": [],
   "source": [
    "extractor.extract_locations = extractor_locations"
   ]
  },
  {
   "cell_type": "markdown",
   "metadata": {},
   "source": [
    "4. Extract the data. Values that are outside of the UGrid are returned as nan by default."
   ]
  },
  {
   "cell_type": "code",
   "execution_count": 7,
   "metadata": {},
   "outputs": [
    {
     "name": "stdout",
     "output_type": "stream",
     "text": [
      "Extraction value at (0.0, 0.0, 0.0): 1.5\n",
      "Extraction value at (0.25, 0.75, 100.0): 1.75\n",
      "Extraction value at (0.5, 0.5, 0.0): 1.5\n",
      "Extraction value at (0.75, 0.25, -100.0): 1.25\n",
      "Extraction value at (-0.1, -0.1, 0.0): nan\n",
      "Extraction value at (0, 1, 0): 2.0\n",
      "Extraction value at (1, 1, 0): 1.5\n",
      "Extraction value at (1, 0, 0): 1.0\n",
      "Extraction value at (0.25, 0.4, 0): 1.5750000476837158\n",
      "Extraction value at (0.75, 0.6, 0): 1.4249999523162842\n"
     ]
    }
   ],
   "source": [
    "extraction_values = extractor.extract_data()\n",
    "for i in range(0, len(extractor_locations)):\n",
    "    print(f\"Extraction value at {extractor_locations[i]}: {extraction_values[i]}\")"
   ]
  },
  {
   "cell_type": "markdown",
   "metadata": {},
   "source": [
    "##### View the Data"
   ]
  },
  {
   "cell_type": "code",
   "execution_count": 8,
   "metadata": {},
   "outputs": [],
   "source": [
    "extract_scatter_vals = np.array([\n",
    "    (extractor_locations[i][0], \n",
    "     extractor_locations[i][1], \n",
    "     extraction_values[i])\n",
    "    for i in range(0, len(extraction_values))\n",
    "])"
   ]
  },
  {
   "cell_type": "markdown",
   "metadata": {},
   "source": [
    "The code below creates a dynamic render of our grid with our extracted data using holoviews. An image of this render is pictured below.\n",
    "\n",
    "```python\n",
    "hv_extract_values = hv.Scatter(extract_scatter_vals, vdims=['y', 'z'])\n",
    "polygons, lines, points = ugrid_tools.create_hv_objects_for_image(ugrid) \n",
    "%opts Polygons Points [width=700, height=700 tools=['hover']]\n",
    "%opts Scatter [color_index=2 colorbar=True tools=['hover']] (size=10 cmap=\"cool\")\n",
    "polygons * lines * points.options(size=3) * hv_extract_values\n",
    "```"
   ]
  },
  {
   "cell_type": "markdown",
   "metadata": {},
   "source": [
    "![Extracted Data](images/simple_xmugrid_data.png)"
   ]
  },
  {
   "cell_type": "markdown",
   "metadata": {},
   "source": [
    "## Example - Transient Data Location Extractor \n",
    "This example shows how to use a location extractor on transient data.\n",
    "\n",
    "This example shows how to extract data from a XmUGrid that has transient scalar data. A picture of the example is shown below. Notice that the UGrid is a 2x3 structured grid with quadrillateral cells. There are two time steps with scalar data mapped to the points."
   ]
  },
  {
   "cell_type": "markdown",
   "metadata": {},
   "source": [
    "### 1. Create a UGrid for the Extractor"
   ]
  },
  {
   "cell_type": "code",
   "execution_count": 9,
   "metadata": {},
   "outputs": [],
   "source": [
    "transient_example_points = [(288050, 3907770, 0), (294050, 3907770, 0), (300050, 3907770, 0),\n",
    "          (306050, 3907770, 0), (288050, 3901770, 0), (294050, 3901770, 0),\n",
    "          (300050, 3901770, 0), (306050, 3901770, 0), (288050, 3895770, 0),\n",
    "          (294050, 3895770, 0), (300050, 3895770, 0), (306050, 3895770, 0)\n",
    "]\n",
    "transient_example_cells = [xmsgrid.ugrid.UGrid.cell_type_enum.QUAD, 4, 0, 4, 5, 1,\n",
    "         xmsgrid.ugrid.UGrid.cell_type_enum.QUAD, 4, 1, 5, 6, 2,\n",
    "         xmsgrid.ugrid.UGrid.cell_type_enum.QUAD, 4, 2, 6, 7, 3,\n",
    "         xmsgrid.ugrid.UGrid.cell_type_enum.QUAD, 4, 4, 8, 9, 5,\n",
    "         xmsgrid.ugrid.UGrid.cell_type_enum.QUAD, 4, 5, 9, 10, 6,\n",
    "         xmsgrid.ugrid.UGrid.cell_type_enum.QUAD, 4, 6, 10, 11, 7\n",
    "]\n",
    "transient_example_ugrid = xmsgrid.ugrid.UGrid(transient_example_points, transient_example_cells)"
   ]
  },
  {
   "cell_type": "markdown",
   "metadata": {},
   "source": [
    "The code below creates a dynamic render of our grid using holoviews. An image of this render is pictured below.\n",
    "\n",
    "```python\n",
    "polygons, lines, points = ugrid_tools.create_hv_objects_for_image(transient_example_ugrid) \n",
    "%opts Polygons Points [width=700, height=700]\n",
    "polygons * lines * points.options(size=3)\n",
    "```"
   ]
  },
  {
   "cell_type": "markdown",
   "metadata": {},
   "source": [
    "![xmugrid](images/transient_xmugrid.png)"
   ]
  },
  {
   "cell_type": "markdown",
   "metadata": {},
   "source": [
    "### 2. Create the Extractor"
   ]
  },
  {
   "cell_type": "code",
   "execution_count": 10,
   "metadata": {},
   "outputs": [],
   "source": [
    "transient_example_extractor = xmsextractor.UGrid2dDataExtractor(transient_example_ugrid)"
   ]
  },
  {
   "cell_type": "markdown",
   "metadata": {},
   "source": [
    "### 3. Set extract locations"
   ]
  },
  {
   "cell_type": "code",
   "execution_count": 11,
   "metadata": {},
   "outputs": [],
   "source": [
    "transient_example_extract_locations = [(289780, 3906220, 0),\n",
    "                     (293780, 3899460, 0),\n",
    "                     (298900, 3900780, 0),\n",
    "                     (301170, 3904960, 0),\n",
    "                     (296330, 3906180, 0),\n",
    "                     (307395, 3901463, 0)\n",
    "]\n",
    "\n",
    "transient_example_extractor.extract_locations = transient_example_extract_locations"
   ]
  },
  {
   "cell_type": "markdown",
   "metadata": {},
   "source": [
    "##### Display the Extract Locations"
   ]
  },
  {
   "cell_type": "markdown",
   "metadata": {},
   "source": [
    "The code below creates a dynamic render of our grid with our extractor locations using holoviews. An image of this render is pictured below.\n",
    "\n",
    "```python\n",
    "transient_example_extractor_location_points = hv.Points(transient_example_extract_locations).options(color='red', size=10)\n",
    "%opts Polygons Points [width=700, height=700]\n",
    "polygons * lines * points * transient_example_extractor_location_points\n",
    "```"
   ]
  },
  {
   "cell_type": "markdown",
   "metadata": {},
   "source": [
    "![Extract Locations](images/transient_xmugrid_extract_locations.png)"
   ]
  },
  {
   "cell_type": "markdown",
   "metadata": {},
   "source": [
    "### 4. Set the point scalars for the first time step"
   ]
  },
  {
   "cell_type": "code",
   "execution_count": 12,
   "metadata": {},
   "outputs": [],
   "source": [
    "transient_example_point_scalars = [730.787, 1214.54, 1057.145, 629.2069, 351.1153, 631.6649, 1244.366,\n",
    "                                   449.9133, 64.04247, 240.9716, 680.0491, 294.9547]\n",
    "transient_example_extractor.set_grid_point_scalars(\n",
    "    transient_example_point_scalars, [], 'cells'\n",
    ")"
   ]
  },
  {
   "cell_type": "markdown",
   "metadata": {},
   "source": [
    "### 5. Extract the data"
   ]
  },
  {
   "cell_type": "code",
   "execution_count": 13,
   "metadata": {},
   "outputs": [
    {
     "name": "stdout",
     "output_type": "stream",
     "text": [
      "Extraction value at (289780, 3906220, 0): 719.6930541992188\n",
      "Extraction value at (293780, 3899460, 0): 468.6232604980469\n",
      "Extraction value at (298900, 3900780, 0): 1033.8193359375\n",
      "Extraction value at (301170, 3904960, 0): 996.5289916992188\n",
      "Extraction value at (296330, 3906180, 0): 1204.343505859375\n",
      "Extraction value at (307395, 3901463, 0): nan\n"
     ]
    }
   ],
   "source": [
    "transient_example_extraction_values = transient_example_extractor.extract_data()\n",
    "for i in range(0, len(transient_example_extract_locations)):\n",
    "    print(f\"Extraction value at {transient_example_extract_locations[i]}: {transient_example_extraction_values[i]}\")"
   ]
  },
  {
   "cell_type": "markdown",
   "metadata": {},
   "source": [
    "### 6. Continue using steps 4 and 5 for remaining time steps"
   ]
  },
  {
   "cell_type": "code",
   "execution_count": 14,
   "metadata": {},
   "outputs": [
    {
     "name": "stdout",
     "output_type": "stream",
     "text": [
      "Extraction value at (289780, 3906220, 0): nan\n",
      "Extraction value at (293780, 3899460, 0): 466.4429931640625\n",
      "Extraction value at (298900, 3900780, 0): 685.0070190429688\n",
      "Extraction value at (301170, 3904960, 0): 849.4258422851562\n",
      "Extraction value at (296330, 3906180, 0): 1069.6595458984375\n",
      "Extraction value at (307395, 3901463, 0): nan\n"
     ]
    }
   ],
   "source": [
    "transient_example_point_scalars = [float('nan'), 1220.5, 1057.1, 613.2, 380.1, 625.6, 722.2, 449.9, 51.0, 240.9, 609.0, 294.9]\n",
    "transient_example_cell_activity = [True] * transient_example_ugrid.cell_count\n",
    "transient_example_cell_activity[0] = False\n",
    "transient_example_extractor.set_grid_point_scalars(\n",
    "    transient_example_point_scalars, \n",
    "    transient_example_cell_activity, \n",
    "    'cells'\n",
    ")\n",
    "\n",
    "transient_example_extraction_values = transient_example_extractor.extract_data()\n",
    "for i in range(0, len(transient_example_extract_locations)):\n",
    "    print(f\"Extraction value at {transient_example_extract_locations[i]}: {transient_example_extraction_values[i]}\")"
   ]
  },
  {
   "cell_type": "markdown",
   "metadata": {},
   "source": [
    "#### View the Data"
   ]
  },
  {
   "cell_type": "code",
   "execution_count": 15,
   "metadata": {},
   "outputs": [],
   "source": [
    "transient_extract_scatter_vals = np.array([\n",
    "    (transient_example_extract_locations[i][0], \n",
    "     transient_example_extract_locations[i][1], \n",
    "     transient_example_extraction_values[i])\n",
    "    for i in range(0, len(transient_example_extraction_values))\n",
    "])"
   ]
  },
  {
   "cell_type": "markdown",
   "metadata": {},
   "source": [
    "The code below creates a dynamic render of our grid with our extracted data using holoviews. An image of this render is pictured below.\n",
    "\n",
    "```python\n",
    "hv_transient_extract_values = hv.Scatter(transient_extract_scatter_vals, vdims=['y', 'z'])\n",
    "polygons, lines, points = ugrid_tools.create_hv_objects_for_image(transient_example_ugrid) \n",
    "%opts Polygons Points [width=700, height=700 tools=['hover']]\n",
    "%opts Scatter [color_index=2 colorbar=True tools=['hover']] (size=10)\n",
    "polygons * lines * points.options(size=3) * hv_transient_extract_values\n",
    "```"
   ]
  },
  {
   "cell_type": "markdown",
   "metadata": {},
   "source": [
    "![Extracted Data](images/transient_xmugrid_data.png)"
   ]
  },
  {
   "cell_type": "markdown",
   "metadata": {},
   "source": [
    "## Example - Transient Polyline Extractor \n",
    "This example shows how to use a polyline extractor on transient data.\n",
    "\n",
    "This example shows how to extract data along a polyline from a XmUGrid that has transient scalar data. A picture of the example is shown below. Notice that the UGrid is a 2x3 structured grid with quadrillateral cells. There are two time steps with scalar data mapped to the points."
   ]
  },
  {
   "cell_type": "markdown",
   "metadata": {},
   "source": [
    "The steps to extract interpolated values along a polyline for transient scalar values include:\n",
    "### 1. Build the UGrid and Extractor Objects"
   ]
  },
  {
   "cell_type": "code",
   "execution_count": 16,
   "metadata": {},
   "outputs": [],
   "source": [
    "\n",
    "polyline_example_points = [(288050, 3907770, 0), (294050, 3907770, 0), (300050, 3907770, 0),\n",
    "          (306050, 3907770, 0), (288050, 3901770, 0), (294050, 3901770, 0),\n",
    "          (300050, 3901770, 0), (306050, 3901770, 0), (288050, 3895770, 0),\n",
    "          (294050, 3895770, 0), (300050, 3895770, 0), (306050, 3895770, 0)\n",
    "]\n",
    "polyline_example_cells = [xmsgrid.ugrid.UGrid.cell_type_enum.QUAD, 4, 0, 4, 5, 1,\n",
    "         xmsgrid.ugrid.UGrid.cell_type_enum.QUAD, 4, 1, 5, 6, 2,\n",
    "         xmsgrid.ugrid.UGrid.cell_type_enum.QUAD, 4, 2, 6, 7, 3,\n",
    "         xmsgrid.ugrid.UGrid.cell_type_enum.QUAD, 4, 4, 8, 9, 5,\n",
    "         xmsgrid.ugrid.UGrid.cell_type_enum.QUAD, 4, 5, 9, 10, 6,\n",
    "         xmsgrid.ugrid.UGrid.cell_type_enum.QUAD, 4, 6, 10, 11, 7\n",
    "]\n",
    "polyline_example_ugrid = xmsgrid.ugrid.UGrid(polyline_example_points, polyline_example_cells)\n",
    "\n",
    "# Step 1. Create an extractor for an XmUGrid giving the mapped location of the scalar values\n",
    "polyline_example_extractor = xmsextractor.UGrid2dPolylineDataExtractor(\n",
    "    polyline_example_ugrid, 'points'\n",
    ")"
   ]
  },
  {
   "cell_type": "markdown",
   "metadata": {},
   "source": [
    "The code below creates a dynamic render of our grid using holoviews. An image of this render is pictured below.\n",
    "\n",
    "```python\n",
    "polygons, lines, points = ugrid_tools.create_hv_objects_for_image(polyline_example_ugrid) \n",
    "%opts Polygons Points [width=700, height=700]\n",
    "polygons * lines * points.options(size=3)\n",
    "```"
   ]
  },
  {
   "cell_type": "markdown",
   "metadata": {},
   "source": [
    "![xmugrid](images/polyline_xmugrid.png)"
   ]
  },
  {
   "cell_type": "markdown",
   "metadata": {},
   "source": [
    "### 2. Set the polyline"
   ]
  },
  {
   "cell_type": "code",
   "execution_count": 17,
   "metadata": {},
   "outputs": [],
   "source": [
    "# Step 3. Set the polyline to be extracted along.\n",
    "polyline = [(290764, 3895106, 0), (291122, 3909108, 0),\n",
    "            (302772, 3909130, 0), (302794, 3895775, 0)\n",
    "]\n",
    "polyline_example_extractor.set_polyline(polyline)"
   ]
  },
  {
   "cell_type": "markdown",
   "metadata": {},
   "source": [
    "The code below creates a dynamic render of our grid with our polyline using holoviews. An image of this render is pictured below.\n",
    "\n",
    "```python\n",
    "hv_polyline = hv.Path([polyline,]).options(line_color='red')\n",
    "hv_polyline_points = hv.Points(polyline).options(size=6)\n",
    "polygons, lines, points = ugrid_tools.create_hv_objects_for_image(polyline_example_ugrid) \n",
    "%opts Polygons Points [width=700, height=700]\n",
    "polygons * lines * points.options(size=3) * hv_polyline * hv_polyline_points\n",
    "```"
   ]
  },
  {
   "cell_type": "markdown",
   "metadata": {},
   "source": [
    "![The Polyline](images/polyline_xmugrid_polyline.png)"
   ]
  },
  {
   "cell_type": "markdown",
   "metadata": {},
   "source": [
    "##### Display extraction locations generated by the polyline"
   ]
  },
  {
   "cell_type": "code",
   "execution_count": 18,
   "metadata": {},
   "outputs": [],
   "source": [
    "polyline_example_extracted_locations = polyline_example_extractor.extract_locations"
   ]
  },
  {
   "cell_type": "markdown",
   "metadata": {},
   "source": [
    "The code below creates a dynamic render of our grid with the extraction locations generated by our polyline. An image of this render is pictured below.\n",
    "\n",
    "```python\n",
    "hv_polyline = hv.Path([polyline,]).options(line_color='red')\n",
    "hv_polyline_points = hv.Points(polyline_example_extracted_locations).options(size=10)\n",
    "polygons, lines, points = ugrid_tools.create_hv_objects_for_image(polyline_example_ugrid) \n",
    "%opts Polygons Points [width=700, height=700]\n",
    "polygons * lines * points.options(size=3) * hv_polyline * hv_polyline_points\n",
    "```"
   ]
  },
  {
   "cell_type": "markdown",
   "metadata": {},
   "source": [
    "![The Extraction Locations](images/polyline_xmugrid_extract_locations.png)"
   ]
  },
  {
   "cell_type": "markdown",
   "metadata": {},
   "source": [
    "### 3. Set the point scalars for the first time step"
   ]
  },
  {
   "cell_type": "code",
   "execution_count": 19,
   "metadata": {},
   "outputs": [],
   "source": [
    "point_scalars = [730.787, 1214.54, 1057.145, 629.2069, 351.1153, 631.6649,\n",
    "                 1244.366, 449.9133, 64.04247, 240.9716, 680.0491, 294.9547\n",
    "]\n",
    "polyline_example_extractor.set_grid_scalars(point_scalars, [], 'cells')"
   ]
  },
  {
   "cell_type": "markdown",
   "metadata": {},
   "source": [
    "### 4. Extract the data"
   ]
  },
  {
   "cell_type": "code",
   "execution_count": 20,
   "metadata": {},
   "outputs": [
    {
     "name": "stdout",
     "output_type": "stream",
     "text": [
      "Extraction value at [ 290764. 3895106.       0.]: nan\n",
      "Extraction value at [ 290780.97700329 3895770.               0.        ]: 144.57403564453125\n",
      "Extraction value at [ 290862.47493036 3898957.52506964       0.        ]: 299.48590087890625\n",
      "Extraction value at [ 290934.38365948 3901770.               0.        ]: 485.9841003417969\n",
      "Extraction value at [ 291012.05710306 3904807.94289694       0.        ]: 681.852783203125\n",
      "Extraction value at [ 291087.79031567 3907770.               0.        ]: 975.7103881835938\n",
      "Extraction value at [ 291122. 3909108.       0.]: nan\n",
      "Extraction value at [ 302772. 3909130.       0.]: nan\n",
      "Extraction value at [ 302774.24035942 3907770.               0.        ]: 862.843994140625\n",
      "Extraction value at [ 302778.73546839 3905041.26453161       0.        ]: 780.9825439453125\n",
      "Extraction value at [ 302784.12429802 3901770.               0.        ]: 882.3439331054688\n",
      "Extraction value at [ 302788.63571589 3899031.36428411       0.        ]: 811.0173950195312\n",
      "Extraction value at [ 302794. 3895775.       0.]: 504.4028625488281\n"
     ]
    }
   ],
   "source": [
    "polyline_example_extraction_values = polyline_example_extractor.extract_data()\n",
    "for i in range(0, len(polyline_example_extracted_locations)):\n",
    "    print(f\"Extraction value at {polyline_example_extracted_locations[i]}: {polyline_example_extraction_values[i]}\")"
   ]
  },
  {
   "cell_type": "markdown",
   "metadata": {},
   "source": [
    "### 5. Continue using steps 3 and 4 for remaining time steps"
   ]
  },
  {
   "cell_type": "code",
   "execution_count": 21,
   "metadata": {},
   "outputs": [],
   "source": [
    "point_scalars = [float('nan'), 1220.5, 1057.1, 613.2, 380.1, 625.6, 722.2, 449.9, 51.0, 240.9,\n",
    "                 609.0, 294.9]\n",
    "polyline_example_extractor.set_grid_scalars(point_scalars, [], 'cells')\n",
    "extract_vals = polyline_example_extractor.extract_data()"
   ]
  },
  {
   "cell_type": "markdown",
   "metadata": {},
   "source": [
    "#### View the Data"
   ]
  },
  {
   "cell_type": "code",
   "execution_count": 22,
   "metadata": {},
   "outputs": [],
   "source": [
    "extract_scatter_vals = np.array([\n",
    "    (polyline_example_extracted_locations[i][0], polyline_example_extracted_locations[i][1], extract_vals[i])\n",
    "    for i in range(0, len(extract_vals))\n",
    "])"
   ]
  },
  {
   "cell_type": "markdown",
   "metadata": {},
   "source": [
    "The code below creates a dynamic render of our grid with our extracted data using holoviews. An image of this render is pictured below.\n",
    "\n",
    "```python\n",
    "hv_extract_values = hv.Scatter(extract_scatter_vals, vdims=['y', 'z'])\n",
    "polygons, lines, points = ugrid_tools.create_hv_objects_for_image(polyline_example_ugrid) \n",
    "%opts Polygons Points [width=700, height=700 tools=['hover']]\n",
    "%opts Scatter [color_index=2 colorbar=True tools=['hover']] (size=10)\n",
    "polygons * lines * points.options(size=3) * hv_polyline * hv_extract_values\n",
    "```"
   ]
  },
  {
   "cell_type": "markdown",
   "metadata": {},
   "source": [
    "![The Extracted Data](images/polyline_xmugrid_data.png)"
   ]
  },
  {
   "cell_type": "code",
   "execution_count": null,
   "metadata": {},
   "outputs": [],
   "source": []
  }
 ],
 "metadata": {
  "kernelspec": {
   "display_name": "Python 3 (ipykernel)",
   "language": "python",
   "name": "python3"
  },
  "language_info": {
   "codemirror_mode": {
    "name": "ipython",
    "version": 3
   },
   "file_extension": ".py",
   "mimetype": "text/x-python",
   "name": "python",
   "nbconvert_exporter": "python",
   "pygments_lexer": "ipython3",
   "version": "3.10.2"
  }
 },
 "nbformat": 4,
 "nbformat_minor": 4
}
