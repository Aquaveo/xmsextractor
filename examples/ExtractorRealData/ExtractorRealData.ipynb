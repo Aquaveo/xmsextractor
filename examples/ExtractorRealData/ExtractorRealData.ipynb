{
 "cells": [
  {
   "cell_type": "markdown",
   "metadata": {},
   "source": [
    "# Extractor Tutorial "
   ]
  },
  {
   "cell_type": "markdown",
   "metadata": {},
   "source": [
    "## Table of Contents\n",
    "\n",
    "- [Real Data](#Real-Data)\n",
    "- [Display area of interest](#Display-area-of-interest)\n",
    "- [Create a UGrid](#Create-a-UGrid)\n",
    "- [Create an Extractor](#Create-an-Extractor)\n",
    "- [Setup Polyline](#Setup-Polyline)\n",
    "- [Set the point scalars for the water depth](#Set-the-point-scalars-for-the-water-depth)\n",
    "- [Extract the data](#Extract-the-data)\n",
    "- [View the Data](#View-the-Data)"
   ]
  },
  {
   "cell_type": "markdown",
   "metadata": {},
   "source": [
    "## Real Data \n",
    "The purpose of this tutorial is to show how to use the classes defined in xmsextractor to extract data at given locations on an XmUGrid with scalar values, using outputs from a numerical model.\n",
    "\n",
    "First, we will load a UGrid containing elevation values.  The data comes from a Sedimentation and River Hydraulics – Two-Dimensional (SRH-2D) model."
   ]
  },
  {
   "cell_type": "code",
   "execution_count": 1,
   "metadata": {
    "tags": []
   },
   "outputs": [],
   "source": [
    "import xms.extractor as xmsextractor\n",
    "import xms.grid as xmsgrid"
   ]
  },
  {
   "cell_type": "markdown",
   "metadata": {},
   "source": [
    "The following three code cells read in the data for our UGrid."
   ]
  },
  {
   "cell_type": "code",
   "execution_count": 2,
   "metadata": {
    "tags": []
   },
   "outputs": [],
   "source": [
    "# A list that will hold the locations of our UGrid (x,y,z) coordinates\n",
    "ugrid_points = []\n",
    "\n",
    "# Read in our locations from a file\n",
    "with open('PointsData.txt','r') as f:\n",
    "    # Each line has an individual location\n",
    "    for line in f:\n",
    "        # Extract our location\n",
    "        line = line.strip()\n",
    "        line = line.strip('[,()]')\n",
    "        line = line.split(',')\n",
    "        point = (float(line[0]), float(line[1]), float(line[2]))\n",
    "        ugrid_points.append(point)"
   ]
  },
  {
   "cell_type": "code",
   "execution_count": 3,
   "metadata": {
    "tags": []
   },
   "outputs": [],
   "source": [
    "# A list that will hold the cell data of our UGrid\n",
    "ugrid_cells = []\n",
    "\n",
    "# Read in the cell data from a file\n",
    "with open('CellsData.txt','r') as f:\n",
    "    # Each line has the data for an individual cell\n",
    "    for line in f:\n",
    "        # Extract our cell data\n",
    "        line = line.strip()\n",
    "        line = line.rstrip(',')\n",
    "        line = line.split(',')\n",
    "        ugrid_cells.extend([xmsgrid.ugrid.UGrid.cell_type_enum.TRIANGLE, int(line[1]), int(line[2]), int(line[3]), int(line[4])])"
   ]
  },
  {
   "cell_type": "code",
   "execution_count": 4,
   "metadata": {
    "tags": []
   },
   "outputs": [],
   "source": [
    "# A list that will hold the depth data for each location on our UGrid\n",
    "depths = []\n",
    "\n",
    "# Read in the depth data from a file\n",
    "with open('DepthsData.txt','r') as f:\n",
    "    # Each line has the depth for an individual location\n",
    "    for line in f:\n",
    "        # Extract our depth\n",
    "        line = line.strip()\n",
    "        line = line.rstrip(',')\n",
    "        depths.append(float(line))"
   ]
  },
  {
   "cell_type": "markdown",
   "metadata": {},
   "source": [
    "## Display area of interest"
   ]
  },
  {
   "cell_type": "markdown",
   "metadata": {},
   "source": [
    "The code below uses `cartopy.crs` and `geoviews` to render our area of interest. An image of this render is shown below."
   ]
  },
  {
   "cell_type": "markdown",
   "metadata": {},
   "source": [
    "```python\n",
    "srs = ccrs.LambertConformal(central_longitude=-98, central_latitude=35.0, false_easting=600000,\n",
    "                           standard_parallels=(35.5667, 36.7667))\n",
    "boundary_polygon = gv.Shape.from_shapefile(\"boundary_polys.shp\", crs=srs).options(color=\"red\", alpha=0.25)\n",
    "basemap = gv.tile_sources.ESRI()\n",
    "\n",
    "%opts Shape Polygons Points [height=700 width=700]\n",
    "basemap * boundary_polygon\n",
    "```"
   ]
  },
  {
   "cell_type": "markdown",
   "metadata": {},
   "source": [
    "![Area of Interest](images/area_of_interest.png)"
   ]
  },
  {
   "cell_type": "markdown",
   "metadata": {},
   "source": [
    "## Create a UGrid"
   ]
  },
  {
   "cell_type": "code",
   "execution_count": 5,
   "metadata": {
    "tags": []
   },
   "outputs": [],
   "source": [
    "ugrid = xmsgrid.ugrid.UGrid(points=ugrid_points, cellstream=ugrid_cells)"
   ]
  },
  {
   "cell_type": "markdown",
   "metadata": {},
   "source": [
    "##### View the UGrid"
   ]
  },
  {
   "cell_type": "markdown",
   "metadata": {},
   "source": [
    "The code below uses `geoviews` to render our ugrid with our area of interest. An image of this render is shown below."
   ]
  },
  {
   "cell_type": "markdown",
   "metadata": {
    "tags": []
   },
   "source": [
    "```python\n",
    "ugrid_cells = []\n",
    "\n",
    "for i in range(0, ugrid.get_cell_count()):\n",
    "    ugrid_cells.extend(ugrid.get_cell_cellstream(i)[1][2:])\n",
    "\n",
    "polygons, lines, points = ugrid_tools.create_hv_objects_for_image(ugrid, _projection=srs)\n",
    "basemap * polygons * lines * points\n",
    "```"
   ]
  },
  {
   "cell_type": "markdown",
   "metadata": {
    "tags": []
   },
   "source": [
    "![UGrid](images/ugrid.png)"
   ]
  },
  {
   "cell_type": "markdown",
   "metadata": {},
   "source": [
    "## Create an Extractor"
   ]
  },
  {
   "cell_type": "code",
   "execution_count": 6,
   "metadata": {},
   "outputs": [],
   "source": [
    "extractor = xmsextractor.UGrid2dPolylineDataExtractor(ugrid, 'points')"
   ]
  },
  {
   "cell_type": "markdown",
   "metadata": {},
   "source": [
    "## Setup Polyline"
   ]
  },
  {
   "cell_type": "code",
   "execution_count": 7,
   "metadata": {},
   "outputs": [],
   "source": [
    "polyline = [(657675.3, 110106.7, 275.0), (657716.7, 110192.5, 275.0)]\n",
    "extractor.set_polyline(polyline)"
   ]
  },
  {
   "cell_type": "code",
   "execution_count": 8,
   "metadata": {},
   "outputs": [],
   "source": [
    "extracted_locations = extractor.extract_locations"
   ]
  },
  {
   "cell_type": "markdown",
   "metadata": {},
   "source": [
    "## Set the point scalars for the water depth"
   ]
  },
  {
   "cell_type": "code",
   "execution_count": 9,
   "metadata": {},
   "outputs": [
    {
     "name": "stdout",
     "output_type": "stream",
     "text": [
      "[[6.58306098e+05 1.09672020e+05 2.75000000e+02]\n",
      " [6.58307941e+05 1.09679038e+05 2.75000000e+02]\n",
      " [6.58323570e+05 1.09697156e+05 2.75000000e+02]\n",
      " ...\n",
      " [6.58940545e+05 1.10397323e+05 2.70000000e+02]\n",
      " [6.58927408e+05 1.10385861e+05 2.70000000e+02]\n",
      " [6.58914221e+05 1.10373607e+05 2.70000000e+02]]\n"
     ]
    }
   ],
   "source": [
    "extractor.set_grid_scalars(depths, [], 'cells')\n",
    "print(ugrid.locations)"
   ]
  },
  {
   "cell_type": "markdown",
   "metadata": {},
   "source": [
    "## Extract the data"
   ]
  },
  {
   "cell_type": "code",
   "execution_count": 10,
   "metadata": {},
   "outputs": [
    {
     "name": "stdout",
     "output_type": "stream",
     "text": [
      "[0.4364, 0.4364, 0.7657, 0.9219, 1.3677, 1.5640, 1.7878, 1.8955, 1.9747, 2.0098, 2.0801, 2.1397, 2.1662, 2.2067, 2.2315, 2.2453, 2.2668, 2.2565, 2.2500, 2.2132, 2.2099, 2.1895, 1.8264, 1.4297, 1.4297]\n"
     ]
    }
   ],
   "source": [
    "extracted_data = extractor.extract_data()\n",
    "print(str([\"{0:0.4f}\".format(i) for i in extracted_data]).replace(\"'\", \"\"))"
   ]
  },
  {
   "cell_type": "markdown",
   "metadata": {},
   "source": [
    "### View the Data"
   ]
  },
  {
   "cell_type": "markdown",
   "metadata": {},
   "source": [
    "The code below uses `holoviews` to create a render that visualizes our extracted data. An image of this render is shown below."
   ]
  },
  {
   "cell_type": "markdown",
   "metadata": {},
   "source": [
    "```python\n",
    "pxn = extracted_locations[-1][0]\n",
    "px0 = extracted_locations[0][0]\n",
    "distance = pxn - px0\n",
    "hv_point_locations = [(extracted_locations[i][0] - px0, extracted_data[i]) for i in range(0, len(extracted_data))]\n",
    "height = max([y[1] for y in hv_point_locations])\n",
    "\n",
    "x_range = (min([x[0] for x in hv_point_locations]) - (distance*0.1), max([x[0] for x in hv_point_locations]) + (distance*0.1))\n",
    "y_range = (min([y[1] for y in hv_point_locations]) - (height*0.1),   max([y[1] for y in hv_point_locations]) + (height*0.1))\n",
    "\n",
    "%opts Points [colorbar=True tools=['hover']] (size=4 color='red')\n",
    "graph_points = hv.Points(hv_point_locations)\n",
    "graph_line = hv.Path([hv_point_locations,],)\n",
    "graph_line * graph_points.redim.range(x=x_range, y=y_range)\n",
    "```"
   ]
  },
  {
   "cell_type": "markdown",
   "metadata": {},
   "source": [
    "![Data](images/data.png)"
   ]
  },
  {
   "cell_type": "code",
   "execution_count": null,
   "metadata": {},
   "outputs": [],
   "source": []
  }
 ],
 "metadata": {
  "kernelspec": {
   "display_name": "Python 3 (ipykernel)",
   "language": "python",
   "name": "python3"
  },
  "language_info": {
   "codemirror_mode": {
    "name": "ipython",
    "version": 3
   },
   "file_extension": ".py",
   "mimetype": "text/x-python",
   "name": "python",
   "nbconvert_exporter": "python",
   "pygments_lexer": "ipython3",
   "version": "3.10.2"
  }
 },
 "nbformat": 4,
 "nbformat_minor": 4
}
